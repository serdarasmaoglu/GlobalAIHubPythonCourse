{
 "cells": [
  {
   "cell_type": "code",
   "execution_count": null,
   "metadata": {},
   "outputs": [
    {
     "name": "stdout",
     "output_type": "stream",
     "text": [
      "Bilgi yarışmasına hoşgeldiniz !!!\n",
      "Mümkün olduğunca çok sayıda doğru cevap vermeye çalışın !!!\n",
      "Türkiyenin_Başkenti_neresidir?:\n"
     ]
    }
   ],
   "source": [
    "print(\"Bilgi yarışmasına hoşgeldiniz !!!\\nMümkün olduğunca çok sayıda doğru cevap vermeye çalışın !!!\")\n",
    "\n",
    "bilyar={\"Türkiyenin_Başkenti_neresidir?:\":\"ANKARA\",\"En_Kalabalık_Coğrafi_Bölgemiz_Hangisi?:\":\"MARMARA\",\"Dünyanı_Uydusunun_adı_nedir?:\":\"AY\",\"Güneşe_en_yakın_gezegen_hangisidir?:\":\"MERKÜR\",\"İlk_evcilleşen_hayvan_hangisidir?:\":\"KÖPEK\",\"Keçinin_erkeğine_ne_ad_verilir?:\":\"TEKE\",\"Gümüşün_kimyasal_simgesi_nedir?:\":\"AG\",\"Collesium_hangi_şehirdedir?:\":\"ROMA\",\"Dünya_sağlık_örgütünün_kısa_adı_nedir?:\":\"WHO\",\"En_büyük_kıta_hangisidir?:\":\"ASYA\"}\n",
    "\n",
    "toplam_puan=0\n",
    "\n",
    "for k in bilyar:\n",
    "    print(k)\n",
    "    a=input(\"Cevabınız:\")\n",
    "    if a.upper()==bilyar[k]:\n",
    "        print(\"Doğru cevap\")\n",
    "        toplam_puan += 10\n",
    "        print(\"Toplam puanınız: {}\".format(toplam_puan))\n",
    "    else:\n",
    "        print(\"Yanlış cevap\")\n",
    "        print(\"Toplam puanınız:\", toplam_puan)\n",
    "\n",
    "if toplam_puan >20:\n",
    "    print(\"Tebrikler BAŞARILI oldunuz !\")\n",
    "    \n",
    "else:\n",
    "        print(\"Ne yazık ki BAŞARISIZ oldunuz !\")\n",
    "       "
   ]
  }
 ],
 "metadata": {
  "kernelspec": {
   "display_name": "Python 3",
   "language": "python",
   "name": "python3"
  },
  "language_info": {
   "codemirror_mode": {
    "name": "ipython",
    "version": 3
   },
   "file_extension": ".py",
   "mimetype": "text/x-python",
   "name": "python",
   "nbconvert_exporter": "python",
   "pygments_lexer": "ipython3",
   "version": "3.7.6"
  }
 },
 "nbformat": 4,
 "nbformat_minor": 4
}
