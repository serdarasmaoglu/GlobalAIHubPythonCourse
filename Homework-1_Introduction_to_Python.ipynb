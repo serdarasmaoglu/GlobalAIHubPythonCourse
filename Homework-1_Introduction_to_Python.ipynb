{
 "cells": [
  {
   "cell_type": "code",
   "execution_count": 4,
   "metadata": {},
   "outputs": [
    {
     "name": "stdout",
     "output_type": "stream",
     "text": [
      "[0, 2, 4, 6, 8, 10]\n"
     ]
    }
   ],
   "source": [
    "list_even=[i for i in range(11) if i%2==0]\n",
    "print(list_even)\n"
   ]
  },
  {
   "cell_type": "code",
   "execution_count": 7,
   "metadata": {},
   "outputs": [
    {
     "name": "stdout",
     "output_type": "stream",
     "text": [
      "[1, 3, 5, 7, 9]\n"
     ]
    }
   ],
   "source": [
    "list_odd=[i for i in range(11) if i%2!=0]\n",
    "print(list_odd)"
   ]
  },
  {
   "cell_type": "code",
   "execution_count": 10,
   "metadata": {},
   "outputs": [
    {
     "name": "stdout",
     "output_type": "stream",
     "text": [
      "[0, 1, 2, 3, 4, 5, 6, 7, 8, 9, 10]\n"
     ]
    }
   ],
   "source": [
    "list_merged=list_even+list_odd\n",
    "list_merged.sort()\n",
    "print(list_merged)"
   ]
  },
  {
   "cell_type": "code",
   "execution_count": 11,
   "metadata": {},
   "outputs": [
    {
     "name": "stdout",
     "output_type": "stream",
     "text": [
      "[0, 2, 4, 6, 8, 10, 12, 14, 16, 18, 20]\n"
     ]
    }
   ],
   "source": [
    "list_merged_multiplied=[i*2 for i in list_merged]\n",
    "print(list_merged_multiplied)"
   ]
  },
  {
   "cell_type": "code",
   "execution_count": 15,
   "metadata": {},
   "outputs": [
    {
     "name": "stdout",
     "output_type": "stream",
     "text": [
      "Type of 0 is <class 'int'>\n",
      "Type of 2 is <class 'int'>\n",
      "Type of 4 is <class 'int'>\n",
      "Type of 6 is <class 'int'>\n",
      "Type of 8 is <class 'int'>\n",
      "Type of 10 is <class 'int'>\n",
      "Type of 12 is <class 'int'>\n",
      "Type of 14 is <class 'int'>\n",
      "Type of 16 is <class 'int'>\n",
      "Type of 18 is <class 'int'>\n",
      "Type of 20 is <class 'int'>\n"
     ]
    }
   ],
   "source": [
    "Type_Char=[print(\"Type of {} is {}\".format(i,type(i))) for i in list_merged_multiplied]"
   ]
  }
 ],
 "metadata": {
  "kernelspec": {
   "display_name": "Python 3",
   "language": "python",
   "name": "python3"
  },
  "language_info": {
   "codemirror_mode": {
    "name": "ipython",
    "version": 3
   },
   "file_extension": ".py",
   "mimetype": "text/x-python",
   "name": "python",
   "nbconvert_exporter": "python",
   "pygments_lexer": "ipython3",
   "version": "3.7.6"
  }
 },
 "nbformat": 4,
 "nbformat_minor": 4
}
