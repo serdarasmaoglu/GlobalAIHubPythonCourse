{
 "cells": [
  {
   "cell_type": "code",
   "execution_count": 111,
   "metadata": {},
   "outputs": [
    {
     "name": "stdout",
     "output_type": "stream",
     "text": [
      "{'Ad_soyad': 'Ahmet_TAM', 'Görevi': 'Operatör', 'Adres': 'Konya', 'Doğum_Tarihi': '18/03/1980'}\n",
      "{'Ad_soyad': 'Semra_TOPAL', 'Görevi': 'Kimyager', 'Adres': 'İzmir', 'Doğum_Tarihi': '21/02/1990'}\n",
      "{'Ad_soyad': 'Hasan_YILMAZ', 'Görevi': 'Kimya_Mühendisi', 'Adres': 'Kocaeli', 'Doğum_Tarihi': '01/01/1972'}\n",
      "{'Ad_soyad': 'Sevgi_YALIN', 'Görevi': 'Bilgisayar_Mühendisi', 'Adres': 'Ankara', 'Doğum_Tarihi': '10/12/1989'}\n",
      "{'Ad_soyad': 'Meltem_KARA', 'Görevi': 'Tekstil_Mühendisi', 'Adres': 'İstanbul', 'Doğum_Tarihi': '11/04/1988'}\n"
     ]
    }
   ],
   "source": [
    "CV1={\"Ad_soyad\":\"Ahmet_TAM\",\"Görevi\":\"Operatör\",\"Adres\":\"Konya\",\"Doğum_Tarihi\":\"18/03/1980\"}\n",
    "CV2={\"Ad_soyad\":\"Semra_TOPAL\",\"Görevi\":\"Kimyager\",\"Adres\":\"İzmir\",\"Doğum_Tarihi\":\"21/02/1990\"}\n",
    "CV3={\"Ad_soyad\":\"Hasan_YILMAZ\",\"Görevi\":\"Kimya_Mühendisi\",\"Adres\":\"Kocaeli\",\"Doğum_Tarihi\":\"01/01/1972\"}\n",
    "CV4={\"Ad_soyad\":\"Sevgi_YALIN\",\"Görevi\":\"Bilgisayar_Mühendisi\",\"Adres\":\"Ankara\",\"Doğum_Tarihi\":\"10/12/1989\"}\n",
    "CV5={\"Ad_soyad\":\"Meltem_KARA\",\"Görevi\":\"Tekstil_Mühendisi\",\"Adres\":\"İstanbul\",\"Doğum_Tarihi\":\"11/04/1988\"}\n",
    "CV_ler=[CV1,CV2,CV3,CV4,CV5]\n",
    "\n",
    "print(*CV_ler,sep='\\n')\n",
    "\n",
    "            \n"
   ]
  },
  {
   "cell_type": "code",
   "execution_count": null,
   "metadata": {},
   "outputs": [],
   "source": []
  }
 ],
 "metadata": {
  "kernelspec": {
   "display_name": "Python 3",
   "language": "python",
   "name": "python3"
  },
  "language_info": {
   "codemirror_mode": {
    "name": "ipython",
    "version": 3
   },
   "file_extension": ".py",
   "mimetype": "text/x-python",
   "name": "python",
   "nbconvert_exporter": "python",
   "pygments_lexer": "ipython3",
   "version": "3.7.6"
  }
 },
 "nbformat": 4,
 "nbformat_minor": 4
}
