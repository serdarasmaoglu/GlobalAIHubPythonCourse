{
 "cells": [
  {
   "cell_type": "code",
   "execution_count": 142,
   "metadata": {},
   "outputs": [
    {
     "name": "stdout",
     "output_type": "stream",
     "text": [
      "Adınız ? :Ali\n",
      "Dönem Ödevi Notunuz ? :55\n",
      "Proje Notunuz ? :26\n",
      "Final Notunuz ? :78\n",
      "Adınız ? :Ayşe\n",
      "Dönem Ödevi Notunuz ? :90\n",
      "Proje Notunuz ? :42\n",
      "Final Notunuz ? :50\n",
      "Adınız ? :Aylin\n",
      "Dönem Ödevi Notunuz ? :88\n",
      "Proje Notunuz ? :78\n",
      "Final Notunuz ? :100\n",
      "Adınız ? :Aslı\n",
      "Dönem Ödevi Notunuz ? :95\n",
      "Proje Notunuz ? :25\n",
      "Final Notunuz ? :10\n",
      "Adınız ? :Ahmet\n",
      "Dönem Ödevi Notunuz ? :10\n",
      "Proje Notunuz ? :45\n",
      "Final Notunuz ? :66\n",
      "{'Ali': 55.5, 'Ayşe': 59.6, 'Aylin': 89.8, 'Aslı': 40.0, 'Ahmet': 42.900000000000006}\n"
     ]
    }
   ],
   "source": [
    "sayı=0\n",
    "Not={}\n",
    "while sayı < 5:\n",
    "    Key=str(input(\"Adınız ? :\"))\n",
    "    G1=int(input(\"Dönem Ödevi Notunuz ? :\"))\n",
    "    G2=int(input(\"Proje Notunuz ? :\"))\n",
    "    G3=int(input(\"Final Notunuz ? :\"))\n",
    "    Value=G1*0.3+G2*0.3+G3*0.4\n",
    "    Not[Key]=Value\n",
    "    sayı+=1\n",
    "print(Not)\n"
   ]
  },
  {
   "cell_type": "code",
   "execution_count": 308,
   "metadata": {},
   "outputs": [
    {
     "name": "stdout",
     "output_type": "stream",
     "text": [
      "En yüksek not 89.8 puan ile Aylin adlı öğrenciye aittir\n",
      "En düşük not 40.0 puan ile Aslı adlı öğrenciye aittir\n"
     ]
    }
   ],
   "source": [
    "a=sorted(Not.values())\n",
    "len(a)\n",
    "max=a[len(a)-1]\n",
    "min=a[0]\n",
    "\n",
    "\n",
    "for key, value in Not.items():\n",
    "    if max==value:\n",
    "        print(\"En yüksek not {} puan ile {} adlı öğrenciye aittir\".format(max,key))\n",
    "    if min==value:\n",
    "        print(\"En düşük not {} puan ile {} adlı öğrenciye aittir\".format(min,key))\n",
    "\n",
    "\n"
   ]
  }
 ],
 "metadata": {
  "kernelspec": {
   "display_name": "Python 3",
   "language": "python",
   "name": "python3"
  },
  "language_info": {
   "codemirror_mode": {
    "name": "ipython",
    "version": 3
   },
   "file_extension": ".py",
   "mimetype": "text/x-python",
   "name": "python",
   "nbconvert_exporter": "python",
   "pygments_lexer": "ipython3",
   "version": "3.7.6"
  }
 },
 "nbformat": 4,
 "nbformat_minor": 4
}
